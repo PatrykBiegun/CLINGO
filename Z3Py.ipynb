{
  "nbformat": 4,
  "nbformat_minor": 0,
  "metadata": {
    "colab": {
      "provenance": [],
      "authorship_tag": "ABX9TyNE4UDCi7RiiDVcTkeK5BDT",
      "include_colab_link": true
    },
    "kernelspec": {
      "name": "python3",
      "display_name": "Python 3"
    },
    "language_info": {
      "name": "python"
    }
  },
  "cells": [
    {
      "cell_type": "markdown",
      "metadata": {
        "id": "view-in-github",
        "colab_type": "text"
      },
      "source": [
        "<a href=\"https://colab.research.google.com/github/PatrykBiegun/CLINGO/blob/main/Z3Py.ipynb\" target=\"_parent\"><img src=\"https://colab.research.google.com/assets/colab-badge.svg\" alt=\"Open In Colab\"/></a>"
      ]
    },
    {
      "cell_type": "markdown",
      "source": [
        "# **Patryk Biegun**\n",
        "\n",
        "Zadanie 4"
      ],
      "metadata": {
        "id": "yWvjX21a7hpD"
      }
    },
    {
      "cell_type": "code",
      "execution_count": 5,
      "metadata": {
        "colab": {
          "base_uri": "https://localhost:8080/"
        },
        "id": "NG3ASxyu7S4q",
        "outputId": "528fbff9-9c77-46a7-da88-254fa444b242"
      },
      "outputs": [
        {
          "output_type": "stream",
          "name": "stdout",
          "text": [
            "Collecting z3-solver\n",
            "  Downloading z3_solver-4.12.5.0-py2.py3-none-manylinux2014_x86_64.whl (56.9 MB)\n",
            "\u001b[2K     \u001b[90m━━━━━━━━━━━━━━━━━━━━━━━━━━━━━━━━━━━━━━━━\u001b[0m \u001b[32m56.9/56.9 MB\u001b[0m \u001b[31m13.7 MB/s\u001b[0m eta \u001b[36m0:00:00\u001b[0m\n",
            "\u001b[?25hRequirement already satisfied: importlib-resources in /usr/local/lib/python3.10/dist-packages (from z3-solver) (6.1.1)\n",
            "Installing collected packages: z3-solver\n",
            "Successfully installed z3-solver-4.12.5.0\n"
          ]
        }
      ],
      "source": [
        "!pip install z3-solver\n",
        "\n",
        "from z3 import *"
      ]
    },
    {
      "cell_type": "markdown",
      "source": [
        "# Zadanie 4\n",
        "\n",
        "Rozwiąż z pomocą Z3Py następującą zagadkę. Dana jest plansza 3x3, w której\n",
        "komórki należy wpisać liczby od 1 do 9, każdą dokładnie raz.\n",
        "Dla każdej grupy 2x2 sąsiadujących komórek dana jest suma, którą powinny dawać komórki w grupie.\n"
      ],
      "metadata": {
        "id": "tL5i54VK76KG"
      }
    },
    {
      "cell_type": "code",
      "source": [
        "from z3 import *\n",
        "\n",
        "def matrix(size, constraints):\n",
        "\n",
        "    matrix_range = range(size)\n",
        "\n",
        "\n",
        "    constraints_list = constraints\n",
        "\n",
        "       # Deklaracja zmiennych 3x3\n",
        "    X = [[Int(\"y%s x%s\" % (r, c)) for c in matrix_range] for r in matrix_range]\n",
        "\n",
        "\n",
        "    solver = Solver()\n",
        "\n",
        "    solver.add([And(X[r][c] >= 1, X[r][c] <= 9) for c in matrix_range for r in matrix_range])\n",
        "\n",
        "    # Każda macierz musi mieć unikalne wartości\n",
        "    solver.add(Distinct([X[i][j] for i in matrix_range for j in matrix_range]))\n",
        "\n",
        "    for row in range(2):\n",
        "        for col in range(2):\n",
        "            solver.add(X[row][col] +\n",
        "                       X[row][col + 1] +\n",
        "                       X[row + 1][col] +\n",
        "                       X[row + 1][col + 1] == constraints_list[row * 2 + col])\n",
        "\n",
        "    if solver.check() == sat:\n",
        "        model = solver.model()\n",
        "\n",
        "        for a in matrix_range:\n",
        "            values = [model[X[a][c]] for c in matrix_range]\n",
        "            print(' '.join(map(str, values)))\n",
        "    else:\n",
        "        print(\"No solution found.\")\n",
        "\n",
        "# przykład\n",
        "matrix(3, [20,15,17,21])\n"
      ],
      "metadata": {
        "colab": {
          "base_uri": "https://localhost:8080/"
        },
        "id": "8XycGe8q96mB",
        "outputId": "79048f1a-4c58-431c-d95f-7701d96bf074"
      },
      "execution_count": 13,
      "outputs": [
        {
          "output_type": "stream",
          "name": "stdout",
          "text": [
            "9 4 3\n",
            "6 1 7\n",
            "2 8 5\n"
          ]
        }
      ]
    },
    {
      "cell_type": "markdown",
      "source": [
        "wynikiem tu będzie\n",
        "\n",
        "9 | 4 | 3\n",
        "\n",
        " -20 - 15-\n",
        "\n",
        "6 | 1 | 7\n",
        "\n",
        "  -17 - 21-\n",
        "\n",
        "2 | 8 | 5\n",
        "\n",
        "9+4+6+1 = 20\n",
        "\n",
        "4+3+6+1 = 15\n",
        "\n",
        "6+1+2+8 = 17\n",
        "\n",
        "8+5+7+1 = 21\n",
        "\n",
        "PROCEDURA DZIAŁA POPRAWNIE\n"
      ],
      "metadata": {
        "id": "8ZyBYk34_veq"
      }
    },
    {
      "cell_type": "markdown",
      "source": [
        "Teraz policzymy dla innych ograniczeń"
      ],
      "metadata": {
        "id": "vWrrKyMlA-pr"
      }
    },
    {
      "cell_type": "code",
      "source": [
        "matrix(3, [16,15,18,20])"
      ],
      "metadata": {
        "colab": {
          "base_uri": "https://localhost:8080/"
        },
        "id": "CS3wbNYjAzly",
        "outputId": "6a22c575-f57c-40a8-8227-a184904c22cf"
      },
      "execution_count": 19,
      "outputs": [
        {
          "output_type": "stream",
          "name": "stdout",
          "text": [
            "9 4 3\n",
            "1 2 6\n",
            "8 7 5\n"
          ]
        }
      ]
    },
    {
      "cell_type": "markdown",
      "source": [
        "    9 |  4 |  3\n",
        "    - 16 - 15 -\n",
        "    1 |  2 |  6\n",
        "    - 18 - 20 -\n",
        "    8 |  7 |  5\n",
        "\n",
        "    9+4+1+2 =16\n",
        "    4+3+2+6 = 15\n",
        "    1+2+8+7 = 18\n",
        "    2+6+7+5 = 20\n",
        "\n",
        "    procedura działa poprawnie"
      ],
      "metadata": {
        "id": "7ISGCTyiBCwk"
      }
    },
    {
      "cell_type": "code",
      "source": [],
      "metadata": {
        "id": "u-UEy96SBhfo"
      },
      "execution_count": null,
      "outputs": []
    }
  ]
}